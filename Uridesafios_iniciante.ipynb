{
  "nbformat": 4,
  "nbformat_minor": 0,
  "metadata": {
    "colab": {
      "name": "Uridesafios. iniciante.ipynb",
      "provenance": [],
      "authorship_tag": "ABX9TyPj+ALdW+69R77PMWIcJ4VT",
      "include_colab_link": true
    },
    "kernelspec": {
      "name": "python3",
      "display_name": "Python 3"
    }
  },
  "cells": [
    {
      "cell_type": "markdown",
      "metadata": {
        "id": "view-in-github",
        "colab_type": "text"
      },
      "source": [
        "<a href=\"https://colab.research.google.com/github/FelipeArqdata/DesafiosURI/blob/master/Uridesafios_iniciante.ipynb\" target=\"_parent\"><img src=\"https://colab.research.google.com/assets/colab-badge.svg\" alt=\"Open In Colab\"/></a>"
      ]
    },
    {
      "cell_type": "code",
      "metadata": {
        "colab": {
          "base_uri": "https://localhost:8080/"
        },
        "id": "fS588Ra-dVeN",
        "outputId": "1fc6815f-6f42-4d6b-8b2f-b0f722649d70"
      },
      "source": [
        "#URI1015\r\n",
        "import math\r\n",
        "\r\n",
        "x1,y1 = input().split(\" \")\r\n",
        "x2,y2 = input().split(\" \")\r\n",
        "\r\n",
        "x1 = float(x1)\r\n",
        "y1 = float(y1)\r\n",
        "x2 = float(x2)\r\n",
        "y2 = float(y2)\r\n",
        "\r\n",
        "dist = math.sqrt((x2-x1)**2+(y2-y1)**2)\r\n",
        "\r\n",
        "print(f'{dist:.4f}')"
      ],
      "execution_count": 11,
      "outputs": [
        {
          "output_type": "stream",
          "text": [
            "7 8\n",
            "90 8\n",
            "83.0000\n"
          ],
          "name": "stdout"
        }
      ]
    }
  ]
}